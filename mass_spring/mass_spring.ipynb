{
 "cells": [
  {
   "cell_type": "code",
   "execution_count": 1,
   "id": "8c22d9bc-c86b-434f-b0f3-0e01290fd183",
   "metadata": {},
   "outputs": [
    {
     "ename": "ModuleNotFoundError",
     "evalue": "No module named 'mass_spring'",
     "output_type": "error",
     "traceback": [
      "\u001b[0;31m---------------------------------------------------------------------------\u001b[0m",
      "\u001b[0;31mModuleNotFoundError\u001b[0m                       Traceback (most recent call last)",
      "Cell \u001b[0;32mIn[1], line 4\u001b[0m\n\u001b[1;32m      1\u001b[0m \u001b[38;5;28;01mimport\u001b[39;00m \u001b[38;5;21;01msys\u001b[39;00m\n\u001b[1;32m      2\u001b[0m sys\u001b[38;5;241m.\u001b[39mpath\u001b[38;5;241m.\u001b[39mappend(\u001b[38;5;124m'\u001b[39m\u001b[38;5;124m/Users/joachim/texjs/lva/ws2324/ScientificComputing/ASC-ODE/build/mass_spring\u001b[39m\u001b[38;5;124m'\u001b[39m)\n\u001b[0;32m----> 4\u001b[0m \u001b[38;5;28;01mfrom\u001b[39;00m \u001b[38;5;21;01mmass_spring\u001b[39;00m \u001b[38;5;28;01mimport\u001b[39;00m \u001b[38;5;241m*\u001b[39m\n\u001b[1;32m      5\u001b[0m \u001b[38;5;28;01mimport\u001b[39;00m \u001b[38;5;21;01mngsolve\u001b[39;00m\u001b[38;5;21;01m.\u001b[39;00m\u001b[38;5;21;01mbla\u001b[39;00m\n\u001b[1;32m      7\u001b[0m \u001b[38;5;28;01mfrom\u001b[39;00m \u001b[38;5;21;01mpythreejs\u001b[39;00m \u001b[38;5;28;01mimport\u001b[39;00m \u001b[38;5;241m*\u001b[39m\n",
      "\u001b[0;31mModuleNotFoundError\u001b[0m: No module named 'mass_spring'"
     ]
    }
   ],
   "source": [
    "import sys\n",
    "sys.path.append('/Users/joachim/texjs/lva/ws2324/ScientificComputing/ASC-ODE/build/mass_spring')\n",
    "\n",
    "from mass_spring import *\n",
    "import ngsolve.bla\n",
    "\n",
    "from pythreejs import *"
   ]
  },
  {
   "cell_type": "code",
   "execution_count": null,
   "id": "24f72163-bcb0-45bf-8407-66384ad3fbc4",
   "metadata": {},
   "outputs": [],
   "source": [
    "mss = MassSpringSystem3d()\n",
    "mss.gravity = (0,0,-9.81)\n",
    "\n",
    "mA = mss.Add (Mass(1, (1,0,0)))\n",
    "mB = mss.Add (Mass(2, (2,0,0)))\n",
    "f1 = mss.Add (Fix( (0,0,0)) )\n",
    "mss.Add (Spring(1, 200000, (f1, mA)))\n",
    "mss.Add (Spring(1, 100000, (mA, mB)))"
   ]
  },
  {
   "cell_type": "code",
   "execution_count": null,
   "id": "c5c8bdfc-9022-4def-bf04-4511756651ea",
   "metadata": {},
   "outputs": [],
   "source": [
    "masses = []\n",
    "for m in mss.masses:\n",
    "    masses.append(\n",
    "        Mesh(SphereBufferGeometry(0.2, 16, 16),\n",
    "             MeshStandardMaterial(color='red'),\n",
    "             position=(m.pos[0], m.pos[1], m.pos[2])))\n",
    "\n",
    "fixes = []\n",
    "for f in mss.fixes:\n",
    "    fixes.append(\n",
    "        Mesh(SphereBufferGeometry(0.2, 32, 16),\n",
    "             MeshStandardMaterial(color='blue'),\n",
    "             position=(f.pos[0], f.pos[1], f.pos[2])))\n",
    "\n",
    "springpos = []\n",
    "for s in mss.springs:\n",
    "    pA = mss[s.connections[0]].pos\n",
    "    pB = mss[s.connections[1]].pos\n",
    "    springpos.append ([ [pA[0], pA[1], pA[2]], [pB[0], pB[1], pB[2]] ])\n",
    "\n",
    "springgeo = LineSegmentsGeometry(positions=springpos)\n",
    "m2 = LineMaterial(linewidth=3, color='cyan')\n",
    "springs = LineSegments2(springgeo, m2)    \n",
    "\n",
    "axes = AxesHelper(1)"
   ]
  },
  {
   "cell_type": "code",
   "execution_count": null,
   "id": "c13e6200-9cab-4df1-8240-f03414ff9b20",
   "metadata": {},
   "outputs": [],
   "source": [
    "view_width = 600\n",
    "view_height = 400\n",
    "\n",
    "camera = PerspectiveCamera( position=[10, 6, 10], aspect=view_width/view_height)\n",
    "key_light = DirectionalLight(position=[0, 10, 10])\n",
    "ambient_light = AmbientLight()\n",
    "\n",
    "scene = Scene(children=[*masses, *fixes, springs, axes, camera, key_light, ambient_light])\n",
    "controller = OrbitControls(controlling=camera)\n",
    "renderer = Renderer(camera=camera, scene=scene, controls=[controller],\n",
    "                    width=view_width, height=view_height)\n",
    "\n",
    "renderer"
   ]
  },
  {
   "cell_type": "code",
   "execution_count": null,
   "id": "1f6bdd5d-d385-4431-a3e7-923ebfb70949",
   "metadata": {},
   "outputs": [],
   "source": [
    "from time import sleep\n",
    "for i in range(10000):\n",
    "    Simulate (mss, 0.02, 100)\n",
    "    for m,mvis in zip(mss.masses, masses):\n",
    "        mvis.position = (m.pos[0], m.pos[1], m.pos[2])\n",
    "\n",
    "    springpos = []\n",
    "    for s in mss.springs:\n",
    "        pA = mss[s.connections[0]].pos\n",
    "        pB = mss[s.connections[1]].pos\n",
    "        springpos.append ([ [pA[0], pA[1], pA[2]], [pB[0], pB[1], pB[2]] ])\n",
    "    springs.geometry = LineSegmentsGeometry(positions=springpos)\n",
    "    sleep(0.01)"
   ]
  },
  {
   "cell_type": "code",
   "execution_count": null,
   "id": "35a71576-da30-469c-b391-698dde7681bf",
   "metadata": {},
   "outputs": [],
   "source": []
  },
  {
   "cell_type": "code",
   "execution_count": null,
   "id": "fd64d66b-f881-4d3a-95d5-302d91f695f3",
   "metadata": {},
   "outputs": [],
   "source": []
  }
 ],
 "metadata": {
  "kernelspec": {
   "display_name": "Python 3 (ipykernel)",
   "language": "python",
   "name": "python3"
  },
  "language_info": {
   "codemirror_mode": {
    "name": "ipython",
    "version": 3
   },
   "file_extension": ".py",
   "mimetype": "text/x-python",
   "name": "python",
   "nbconvert_exporter": "python",
   "pygments_lexer": "ipython3",
   "version": "3.10.12"
  }
 },
 "nbformat": 4,
 "nbformat_minor": 5
}
