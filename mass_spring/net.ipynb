{
 "cells": [
  {
   "cell_type": "code",
   "execution_count": 116,
   "id": "8c22d9bc-c86b-434f-b0f3-0e01290fd183",
   "metadata": {},
   "outputs": [],
   "source": [
    "import sys\n",
    "sys.path.append('../build/mass_spring')\n",
    "\n",
    "from mass_spring import *\n",
    "\n",
    "from pythreejs import *"
   ]
  },
  {
   "cell_type": "code",
   "execution_count": 117,
   "id": "24f72163-bcb0-45bf-8407-66384ad3fbc4",
   "metadata": {},
   "outputs": [],
   "source": [
    "mss = MassSpringSystem3d()\n",
    "mss.gravity = (0,-9.81,0)\n",
    "\n",
    "height = 3\n",
    "width = 3\n",
    "\n",
    "objects=[[]]\n",
    "\n",
    "for i in range(-1, width):\n",
    "    objects[0].append(mss.Add(Fix((i,0,0)))) # top fix\n",
    "\n",
    "for i in range(1, height):\n",
    "    objects.append([mss.Add(Fix((-1,0,i)))]) # left fix\n",
    "    for j in range(width):\n",
    "        mass = mss.Add(Mass(i+j, (j, 0, i)))\n",
    "        objects[i].append(mass)\n",
    "        mss.Add(Spring(1, j*200, (objects[i][-2], objects[i][-1]))) # connect left\n",
    "        mss.Add(Spring(1, i*200, (objects[i][-1], objects[i-1][j + 1]))) # connect up\n",
    "    objects[i].append(mss.Add(Fix((width,0,i)))) # right fix\n",
    "    mss.Add(Spring(1, i*200, (objects[i][-2], objects[i][-1])))\n",
    "\n",
    "for i in range(-1, width):\n",
    "    objects[-1].append(mss.Add(Fix((i,0,height)))) # bottom fix\n",
    "    mss.Add(Spring(1, i*200, (objects[-1][-1], objects[-1][i + 1]))) # connect up"
   ]
  },
  {
   "cell_type": "code",
   "execution_count": 118,
   "id": "c5c8bdfc-9022-4def-bf04-4511756651ea",
   "metadata": {},
   "outputs": [],
   "source": [
    "masses = []\n",
    "for m in mss.masses:\n",
    "    masses.append(\n",
    "        Mesh(SphereBufferGeometry(0.2, 16, 16),\n",
    "             MeshStandardMaterial(color='red'),\n",
    "             position=(m.pos[0], m.pos[1], m.pos[2])))\n",
    "\n",
    "fixes = []\n",
    "for f in mss.fixes:\n",
    "    fixes.append(\n",
    "        Mesh(SphereBufferGeometry(0.2, 32, 16),\n",
    "             MeshStandardMaterial(color='blue'),\n",
    "             position=(f.pos[0], f.pos[1], f.pos[2])))\n",
    "\n",
    "springpos = []\n",
    "for s in mss.springs:\n",
    "    pA = mss[s.connections[0]].pos\n",
    "    pB = mss[s.connections[1]].pos\n",
    "    springpos.append ([ [pA[0], pA[1], pA[2]], [pB[0], pB[1], pB[2]] ])\n",
    "\n",
    "springgeo = LineSegmentsGeometry(positions=springpos)\n",
    "m2 = LineMaterial(linewidth=3, color='cyan')\n",
    "springs = LineSegments2(springgeo, m2)    \n",
    "\n",
    "axes = AxesHelper(1)"
   ]
  },
  {
   "cell_type": "code",
   "execution_count": 119,
   "id": "c13e6200-9cab-4df1-8240-f03414ff9b20",
   "metadata": {},
   "outputs": [
    {
     "data": {
      "application/vnd.jupyter.widget-view+json": {
       "model_id": "fc7f750a47974aefa00cf909eb31180d",
       "version_major": 2,
       "version_minor": 0
      },
      "text/plain": [
       "Renderer(camera=PerspectiveCamera(aspect=1.5, position=(10.0, 6.0, 10.0), projectionMatrix=(1.0, 0.0, 0.0, 0.0…"
      ]
     },
     "execution_count": 119,
     "metadata": {},
     "output_type": "execute_result"
    }
   ],
   "source": [
    "view_width = 600\n",
    "view_height = 400\n",
    "\n",
    "camera = PerspectiveCamera( position=[10, 6, 10], aspect=view_width/view_height)\n",
    "key_light = DirectionalLight(position=[0, 10, 10])\n",
    "ambient_light = AmbientLight()\n",
    "\n",
    "scene = Scene(children=[*masses, *fixes, springs, axes, camera, key_light, ambient_light])\n",
    "controller = OrbitControls(controlling=camera)\n",
    "renderer = Renderer(camera=camera, scene=scene, controls=[controller],\n",
    "                    width=view_width, height=view_height)\n",
    "\n",
    "renderer"
   ]
  },
  {
   "cell_type": "code",
   "execution_count": 120,
   "id": "1f6bdd5d-d385-4431-a3e7-923ebfb70949",
   "metadata": {},
   "outputs": [
    {
     "ename": "KeyboardInterrupt",
     "evalue": "",
     "output_type": "error",
     "traceback": [
      "\u001b[0;31m---------------------------------------------------------------------------\u001b[0m",
      "\u001b[0;31mKeyboardInterrupt\u001b[0m                         Traceback (most recent call last)",
      "\u001b[1;32m/home/norberth/Dokumente/Technische Mathematik/WS2023-24/SciComp/Neo-ODE/mass_spring/net.ipynb Cell 5\u001b[0m line \u001b[0;36m3\n\u001b[1;32m      <a href='vscode-notebook-cell:/home/norberth/Dokumente/Technische%20Mathematik/WS2023-24/SciComp/Neo-ODE/mass_spring/net.ipynb#W4sZmlsZQ%3D%3D?line=0'>1</a>\u001b[0m \u001b[39mfrom\u001b[39;00m \u001b[39mtime\u001b[39;00m \u001b[39mimport\u001b[39;00m sleep\n\u001b[1;32m      <a href='vscode-notebook-cell:/home/norberth/Dokumente/Technische%20Mathematik/WS2023-24/SciComp/Neo-ODE/mass_spring/net.ipynb#W4sZmlsZQ%3D%3D?line=1'>2</a>\u001b[0m \u001b[39mfor\u001b[39;00m i \u001b[39min\u001b[39;00m \u001b[39mrange\u001b[39m(\u001b[39m10000\u001b[39m):\n\u001b[0;32m----> <a href='vscode-notebook-cell:/home/norberth/Dokumente/Technische%20Mathematik/WS2023-24/SciComp/Neo-ODE/mass_spring/net.ipynb#W4sZmlsZQ%3D%3D?line=2'>3</a>\u001b[0m     Simulate (mss, \u001b[39m0.02\u001b[39;49m, \u001b[39m100\u001b[39;49m)\n\u001b[1;32m      <a href='vscode-notebook-cell:/home/norberth/Dokumente/Technische%20Mathematik/WS2023-24/SciComp/Neo-ODE/mass_spring/net.ipynb#W4sZmlsZQ%3D%3D?line=3'>4</a>\u001b[0m     \u001b[39mfor\u001b[39;00m m,mvis \u001b[39min\u001b[39;00m \u001b[39mzip\u001b[39m(mss\u001b[39m.\u001b[39mmasses, masses):\n\u001b[1;32m      <a href='vscode-notebook-cell:/home/norberth/Dokumente/Technische%20Mathematik/WS2023-24/SciComp/Neo-ODE/mass_spring/net.ipynb#W4sZmlsZQ%3D%3D?line=4'>5</a>\u001b[0m         mvis\u001b[39m.\u001b[39mposition \u001b[39m=\u001b[39m (m\u001b[39m.\u001b[39mpos[\u001b[39m0\u001b[39m], m\u001b[39m.\u001b[39mpos[\u001b[39m1\u001b[39m], m\u001b[39m.\u001b[39mpos[\u001b[39m2\u001b[39m])\n",
      "\u001b[0;31mKeyboardInterrupt\u001b[0m: "
     ]
    }
   ],
   "source": [
    "from time import sleep\n",
    "for i in range(10000):\n",
    "    Simulate (mss, 0.02, 100)\n",
    "    for m,mvis in zip(mss.masses, masses):\n",
    "        mvis.position = (m.pos[0], m.pos[1], m.pos[2])\n",
    "\n",
    "    springpos = []\n",
    "    for s in mss.springs:\n",
    "        pA = mss[s.connections[0]].pos\n",
    "        pB = mss[s.connections[1]].pos\n",
    "        springpos.append ([ [pA[0], pA[1], pA[2]], [pB[0], pB[1], pB[2]] ])\n",
    "    springs.geometry = LineSegmentsGeometry(positions=springpos)\n",
    "    sleep(0.01)"
   ]
  },
  {
   "cell_type": "code",
   "execution_count": null,
   "id": "35a71576-da30-469c-b391-698dde7681bf",
   "metadata": {},
   "outputs": [],
   "source": []
  },
  {
   "cell_type": "code",
   "execution_count": null,
   "id": "fd64d66b-f881-4d3a-95d5-302d91f695f3",
   "metadata": {},
   "outputs": [],
   "source": []
  }
 ],
 "metadata": {
  "kernelspec": {
   "display_name": "blaenv",
   "language": "python",
   "name": "python3"
  },
  "language_info": {
   "codemirror_mode": {
    "name": "ipython",
    "version": 3
   },
   "file_extension": ".py",
   "mimetype": "text/x-python",
   "name": "python",
   "nbconvert_exporter": "python",
   "pygments_lexer": "ipython3",
   "version": "3.11.6"
  }
 },
 "nbformat": 4,
 "nbformat_minor": 5
}
